{
 "cells": [
  {
   "cell_type": "markdown",
   "metadata": {},
   "source": [
    "<h3 style=\"text-align:center;\">A Simple Example for Neural Network</h3>\n",
    "\n",
    "<span style=\"text-align:left; font-weight:bold;font-size:1.2em;\"><a href=\"https://www.linkedin.com/in/mahdirahbar/\"> Mahdi Rahbar</a></span> \n",
    "<span style=\"text-align:right;float:right;font-weight:bold;font-size:1.1em;\"> Neural Network&nbsp;</span>           \n",
    "<br>\n",
    "****"
   ]
  },
  {
   "cell_type": "markdown",
   "metadata": {},
   "source": [
    "####  Question:\n",
    "Based on the given information, train **XOR** and **AND** Functions the following neuron by Sigmoid Function and propose convinient weights for each of **XOR** and **AND** functions.\n",
    "\n",
    "<img src=\"images/i1.jpg\" style=\"width:70%\">"
   ]
  },
  {
   "cell_type": "markdown",
   "metadata": {},
   "source": [
    "* **AND**: \n",
    "    for AND function, we need the output to be equal to **1** when the both of our variables are equal to **1**. So our function is going to be something like below:<br>\n",
    "    h(x)=  θ +  θx1 + θx1    \n",
    "    and this equation has to be more than 0, so sigmoid function approximately shoot the value 1 for us and when one of them is equal to zero, our neuron shoots value **0**.<br>\n",
    "    Therefore the following weiths are going to work in this case: \n",
    "  "
   ]
  },
  {
   "cell_type": "code",
   "execution_count": 11,
   "metadata": {},
   "outputs": [
    {
     "name": "stdout",
     "output_type": "stream",
     "text": [
      "[[ 0.36920741]]\n",
      "[[ 0.23893061]]\n",
      "[[ 0.54872029]]\n"
     ]
    }
   ],
   "source": [
    "import numpy as np\n",
    "\n",
    "def sigmoid(x,derivative=False):\n",
    "    if(derivative==True):\n",
    "        return x*(1-x)\n",
    "    return 1/(1+np.exp(-x))\n",
    "\n",
    "np.random.seed(1)\n",
    "\n",
    "weights = np.random.randn(1, 3)\n",
    "\n",
    "training = np.array([[np.array([1, 0, 0]).reshape(1, -1), 0],\n",
    "                    [np.array([1,0,1]).reshape(1, -1), 0],\n",
    "                    [np.array([1,1,0]).reshape(1, -1), 0],\n",
    "                    [np.array([1,1,1]).reshape(1, -1), 1],\n",
    "\n",
    "                    ])\n",
    "\n",
    "for iter in range(training.shape[0]):\n",
    "#forwardPropagation:\n",
    "        a_layer1 = training[iter][0]\n",
    "        z_layer2 = np.dot(weights,a_layer1.reshape(-1, 1))\n",
    "        a_layer2 = sigmoid(z_layer2)\n",
    "        hypothesis_theta = a_layer2\n",
    "\n",
    "#backPropagation:\n",
    "        delta_neuron1_layer2 =  (a_layer2 - training[iter][1] ) * sigmoid(a_layer2 , derivative=True)\n",
    "        Delta_neuron1_layer2 = np.dot(delta_neuron1_layer2 , a_layer1)\n",
    "        update = Delta_neuron1_layer2\n",
    "        weights = weights - update \n",
    "\n",
    "\n",
    "x = np.array([0,0, 1])\n",
    "print (sigmoid(np.dot(weights,x.reshape(-1, 1))))\n",
    "\n",
    "x = np.array([0,1,1])\n",
    "print (sigmoid(np.dot(weights,x.reshape(-1, 1))))\n",
    "\n",
    "x = np.array([1,1,1])\n",
    "print (sigmoid(np.dot(weights,x.reshape(-1, 1)))) \n"
   ]
  },
  {
   "cell_type": "markdown",
   "metadata": {},
   "source": [
    "****\n",
    "* **XOR**: \n",
    "    for XOR function, we need the output to be equal to **0** when the both of our variables are equal. So our function is going to be something like below:<br>\n",
    "    h(x)=  θ +  θx1 + θx1    \n",
    "    and this equation has to be more than 0.5, so sigmoid function approximately shoot the value 1 for us and when one of them is zero and the other is equal to 1, our neuron shoots value **1**.<br>\n",
    "    Therefore the following weiths are going to work in this case: \n",
    "        "
   ]
  },
  {
   "cell_type": "code",
   "execution_count": 12,
   "metadata": {},
   "outputs": [
    {
     "name": "stdout",
     "output_type": "stream",
     "text": [
      "[[ 0.09274921]]\n",
      "[[ 0.21646326]]\n",
      "[[ 0.09539949]]\n"
     ]
    }
   ],
   "source": [
    "weights = np.random.randn(1, 3)\n",
    "\n",
    "training = np.array([[np.array([1, 0, 0]).reshape(1, -1), 0],\n",
    "                    [np.array([1,0,1]).reshape(1, -1), 1],\n",
    "                    [np.array([1,1,0]).reshape(1, -1), 1],\n",
    "                    [np.array([1,1,1]).reshape(1, -1), 0],\n",
    "                    \n",
    "\n",
    "                    ])\n",
    "\n",
    "for iter in range(training.shape[0]):\n",
    "#forwardPropagation:\n",
    "        a_layer1 = training[iter][0]\n",
    "        z_layer2 = np.dot(weights,a_layer1.reshape(-1, 1))\n",
    "        a_layer2 = sigmoid(z_layer2)\n",
    "        hypothesis_theta = a_layer2\n",
    "\n",
    "#backPropagation:\n",
    "        delta_neuron1_layer2 =  (a_layer2 - training[iter][1] ) * sigmoid(a_layer2 , derivative=True)\n",
    "        Delta_neuron1_layer2 = np.dot(delta_neuron1_layer2 , a_layer1)\n",
    "        update = Delta_neuron1_layer2\n",
    "        weights = weights - update \n",
    "\n",
    "\n",
    "x = np.array([0,0, 1])\n",
    "print (sigmoid(np.dot(weights,x.reshape(-1, 1))))\n",
    "\n",
    "x = np.array([0,1,1])\n",
    "print (sigmoid(np.dot(weights,x.reshape(-1, 1))))\n",
    "\n",
    "x = np.array([1,1,1])\n",
    "print (sigmoid(np.dot(weights,x.reshape(-1, 1)))) "
   ]
  }
 ],
 "metadata": {
  "kernelspec": {
   "display_name": "Python 3",
   "language": "python",
   "name": "python3"
  },
  "language_info": {
   "codemirror_mode": {
    "name": "ipython",
    "version": 3
   },
   "file_extension": ".py",
   "mimetype": "text/x-python",
   "name": "python",
   "nbconvert_exporter": "python",
   "pygments_lexer": "ipython3",
   "version": "3.6.8"
  }
 },
 "nbformat": 4,
 "nbformat_minor": 2
}
