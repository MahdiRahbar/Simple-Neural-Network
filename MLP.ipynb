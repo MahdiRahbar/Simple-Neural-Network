{
 "cells": [
  {
   "cell_type": "code",
   "execution_count": 6,
   "metadata": {},
   "outputs": [],
   "source": [
    "import numpy as np"
   ]
  },
  {
   "cell_type": "code",
   "execution_count": 7,
   "metadata": {},
   "outputs": [],
   "source": [
    "def sigmoid(x):\n",
    "    '''Sigmoid-like function using tanh'''\n",
    "    return np.tanh(x)"
   ]
  },
  {
   "cell_type": "code",
   "execution_count": 8,
   "metadata": {},
   "outputs": [],
   "source": [
    "def dsigmoid(x):\n",
    "    '''Derivative of sigmoid above'''\n",
    "    return 1.0-x**2"
   ]
  },
  {
   "cell_type": "code",
   "execution_count": 9,
   "metadata": {},
   "outputs": [],
   "source": [
    "class MLP:\n",
    "    ''' Multi-layer perceptron class. '''\n",
    "\n",
    "    def __init__(self, *args):\n",
    "        ''' Initialization of the perceptron with given sizes.  '''\n",
    "\n",
    "        self.shape = args\n",
    "        n = len(args)\n",
    "\n",
    "        # Build layers\n",
    "        self.layers = []\n",
    "        # Input layer (+1 unit for bias)\n",
    "        self.layers.append(np.ones(self.shape[0]+1))\n",
    "        # Hidden layer(s) + output layer\n",
    "        for i in range(1,n):\n",
    "            self.layers.append(np.ones(self.shape[i]))\n",
    "\n",
    "        # Build weights matrix (randomly between -0.25 and +0.25)\n",
    "        self.weights = []\n",
    "        for i in range(n-1):\n",
    "            self.weights.append(np.zeros((self.layers[i].size,\n",
    "                                         self.layers[i+1].size)))\n",
    "\n",
    "        # dw will hold last change in weights (for momentum)\n",
    "        self.dw = [0,]*len(self.weights)\n",
    "\n",
    "        # Reset weights\n",
    "        self.reset()\n",
    "\n",
    "    def reset(self):\n",
    "        ''' Reset weights '''\n",
    "\n",
    "        for i in range(len(self.weights)):\n",
    "            Z = np.random.random((self.layers[i].size,self.layers[i+1].size))\n",
    "            self.weights[i][...] = (2*Z-1)*0.25\n",
    "\n",
    "    def propagate_forward(self, data):\n",
    "        ''' Propagate data from input layer to output layer. '''\n",
    "\n",
    "        # Set input layer\n",
    "        self.layers[0][0:-1] = data\n",
    "\n",
    "        # Propagate from layer 0 to layer n-1 using sigmoid as activation function\n",
    "        for i in range(1,len(self.shape)):\n",
    "            # Propagate activity\n",
    "            self.layers[i][...] = sigmoid(np.dot(self.layers[i-1],self.weights[i-1]))\n",
    "\n",
    "        # Return output\n",
    "        return self.layers[-1]\n",
    "\n",
    "\n",
    "    def propagate_backward(self, target, lrate=0.1, momentum=0.1):\n",
    "        ''' Back propagate error related to target using lrate. '''\n",
    "\n",
    "        deltas = []\n",
    "\n",
    "        # Compute error on output layer\n",
    "        error = target - self.layers[-1]\n",
    "        delta = error*dsigmoid(self.layers[-1])\n",
    "        deltas.append(delta)\n",
    "\n",
    "        # Compute error on hidden layers\n",
    "        for i in range(len(self.shape)-2,0,-1):\n",
    "            delta = np.dot(deltas[0],self.weights[i].T)*dsigmoid(self.layers[i])\n",
    "            deltas.insert(0,delta)\n",
    "            \n",
    "        # Update weights\n",
    "        for i in range(len(self.weights)):\n",
    "            layer = np.atleast_2d(self.layers[i])\n",
    "            delta = np.atleast_2d(deltas[i])\n",
    "            dw = np.dot(layer.T,delta)\n",
    "            self.weights[i] += lrate*dw + momentum*self.dw[i]\n",
    "            self.dw[i] = dw\n",
    "\n",
    "        # Return error\n",
    "        return (error**2).sum()\n",
    "\n"
   ]
  },
  {
   "cell_type": "code",
   "execution_count": 14,
   "metadata": {},
   "outputs": [
    {
     "name": "stdout",
     "output_type": "stream",
     "text": [
      "Learning the sin function\n"
     ]
    },
    {
     "data": {
      "image/png": "[encoded data removed]",
      "text/plain": [
       "<Figure size 720x360 with 1 Axes>"
      ]
     },
     "metadata": {
      "needs_background": "light"
     },
     "output_type": "display_data"
    }
   ],
   "source": [
    "if __name__ == '__main__':\n",
    "    import matplotlib\n",
    "    import matplotlib.pyplot as plt\n",
    "\n",
    "    def learn(network,samples, epochs=2500, lrate=.1, momentum=0.1):\n",
    "        # Train \n",
    "        for i in range(epochs):\n",
    "            n = np.random.randint(samples.size)\n",
    "            network.propagate_forward( samples['input'][n] )\n",
    "            network.propagate_backward( samples['output'][n], lrate, momentum )\n",
    "        # Test\n",
    "        for i in range(samples.size):\n",
    "            o = network.propagate_forward( samples['input'][i] )\n",
    "            print (i, samples['input'][i], '%.2f' % o[0],)\n",
    "            print ('(expected %.2f)' % samples['output'][i])\n",
    "        print()\n",
    "\n",
    "        \n",
    "        \n",
    "        \n",
    "    print (\"Learning the sin function\")\n",
    "    network = MLP(1,10,1)\n",
    "    samples = np.zeros(1000, dtype=[('x',  float, 1), ('y', float, 1)])\n",
    "    samples['x'] = np.linspace(0,1,1000)\n",
    "    samples['y'] = np.sin(samples['x']*np.pi)\n",
    "\n",
    "    for i in range(1000):\n",
    "        n = np.random.randint(samples.size)\n",
    "        network.propagate_forward(samples['x'][n])\n",
    "        network.propagate_backward(samples['y'][n])\n",
    "\n",
    "    plt.figure(figsize=(10,5))\n",
    "    # Draw real function\n",
    "    x,y = samples['x'],samples['y']\n",
    "    plt.plot(x,y,color='b',lw=1)\n",
    "    # Draw network approximated function\n",
    "    for i in range(samples.shape[0]):\n",
    "        y[i] = network.propagate_forward(x[i])\n",
    "    plt.plot(x,y,color='r',lw=3)\n",
    "    plt.axis([0,1,0,1])\n",
    "    plt.show()"
   ]
  },
  {
   "cell_type": "code",
   "execution_count": null,
   "metadata": {},
   "outputs": [],
   "source": []
  },
  {
   "cell_type": "code",
   "execution_count": null,
   "metadata": {},
   "outputs": [],
   "source": []
  }
 ],
 "metadata": {
  "kernelspec": {
   "display_name": "Python 3",
   "language": "python",
   "name": "python3"
  },
  "language_info": {
   "codemirror_mode": {
    "name": "ipython",
    "version": 3
   },
   "file_extension": ".py",
   "mimetype": "text/x-python",
   "name": "python",
   "nbconvert_exporter": "python",
   "pygments_lexer": "ipython3",
   "version": "3.6.8"
  }
 },
 "nbformat": 4,
 "nbformat_minor": 2
}
